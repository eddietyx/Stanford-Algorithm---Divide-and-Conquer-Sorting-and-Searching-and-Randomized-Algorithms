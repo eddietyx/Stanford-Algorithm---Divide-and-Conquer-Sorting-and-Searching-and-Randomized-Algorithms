{
 "cells": [
  {
   "cell_type": "code",
   "execution_count": 31,
   "metadata": {},
   "outputs": [],
   "source": [
    "# Divide and Conquer: Week #1"
   ]
  },
  {
   "cell_type": "code",
   "execution_count": null,
   "metadata": {},
   "outputs": [],
   "source": [
    "# Progeamming Assignment #1\n",
    "import math"
   ]
  },
  {
   "cell_type": "code",
   "execution_count": 47,
   "metadata": {},
   "outputs": [],
   "source": [
    "# base\n",
    "B = 10\n",
    "# number of digit\n",
    "# n = 64\n",
    "\n",
    "def karatsuba(x,y):\n",
    "    if x<10 or y <10:\n",
    "        return x*y\n",
    "    # get the number of digit\n",
    "    n = max(len(str(x)), len(str(y)))\n",
    "#     print(n)\n",
    "    # check if the length is odd\n",
    "    n -= n%2\n",
    "    # get n/2\n",
    "    half_n = B ** (n // 2)\n",
    "    # get a and b\n",
    "    a, b = divmod(x,half_n)\n",
    "    # get c and d\n",
    "    c, d = divmod(y, half_n)\n",
    "    ac = karatsuba(a,c)\n",
    "    bd = karatsuba(b,d)\n",
    "    adbc = karatsuba(a+b, c+d) - ac - bd\n",
    "    \n",
    "    return B ** n * ac + half_n * (adbc) + bd"
   ]
  },
  {
   "cell_type": "code",
   "execution_count": 48,
   "metadata": {},
   "outputs": [
    {
     "name": "stdout",
     "output_type": "stream",
     "text": [
      "8539734222673567065463550869546574495034888535765114961879601127067743044893204848617875072216249073013374895871952806582723184\n"
     ]
    }
   ],
   "source": [
    "# numbers\n",
    "x = 3141592653589793238462643383279502884197169399375105820974944592\n",
    "y = 2718281828459045235360287471352662497757247093699959574966967627\n",
    "ret = karatsuba(x,y)\n",
    "print(\"%d\" % (ret))"
   ]
  },
  {
   "cell_type": "code",
   "execution_count": null,
   "metadata": {},
   "outputs": [],
   "source": []
  }
 ],
 "metadata": {
  "kernelspec": {
   "display_name": "Python 3",
   "language": "python",
   "name": "python3"
  },
  "language_info": {
   "codemirror_mode": {
    "name": "ipython",
    "version": 3
   },
   "file_extension": ".py",
   "mimetype": "text/x-python",
   "name": "python",
   "nbconvert_exporter": "python",
   "pygments_lexer": "ipython3",
   "version": "3.6.9"
  }
 },
 "nbformat": 4,
 "nbformat_minor": 2
}
